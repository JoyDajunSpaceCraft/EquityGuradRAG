{
 "cells": [
  {
   "cell_type": "markdown",
   "id": "4ba92f29-63bd-48da-a112-a95d01105864",
   "metadata": {},
   "source": [
    "# Group all different queries"
   ]
  },
  {
   "cell_type": "code",
   "execution_count": 6,
   "id": "c2b7316a-2272-423c-803e-55d0b07d1bac",
   "metadata": {},
   "outputs": [
    {
     "name": "stdout",
     "output_type": "stream",
     "text": [
      "length of  all_queries 6949\n",
      "average length of all_queries 16\n"
     ]
    }
   ],
   "source": [
    "\n",
    "from datasets import load_dataset\n",
    "from sklearn.metrics.pairwise import cosine_similarity\n",
    "from sentence_transformers import SentenceTransformer\n",
    "import re\n",
    "import json\n",
    "import pandas as pd\n",
    "\n",
    "# 去敏感化函数\n",
    "def desensitize_query(query):\n",
    "    query = re.sub(r'\\b(Black|Asian|White|Hispanic|intersex|male|female|woman|man)\\b', 'individual', query, flags=re.IGNORECASE)\n",
    "    query = re.sub(r'\\b(\\d+ year old)\\b', 'adult', query, flags=re.IGNORECASE)\n",
    "    return query.strip()\n",
    "\n",
    "# 加载所有子数据集\n",
    "sub_list = [\"cc_llm\", \"cc_manual\", \"ehai\", \"fbrt_llm\", \"trinds\", \"omiye_et_al\", \"fbrt_llm_661_sampled\",\n",
    "            \"fbrt_manual\", \"multimedqa\", \"mixed_mmqa_omaq\", \"omaq\"]\n",
    "\n",
    "all_queries = []\n",
    "\n",
    "# 提取查询内容\n",
    "for sub in sub_list:\n",
    "    ds = load_dataset(\"katielink/EquityMedQA\", sub)\n",
    "    for row in ds[\"train\"]:\n",
    "        if isinstance(row, str):\n",
    "            all_queries.append(desensitize_query(row))\n",
    "        elif isinstance(row, dict):\n",
    "            for key, value in row.items():\n",
    "                if isinstance(value, str):\n",
    "                    all_queries.append(desensitize_query(value))\n",
    "print(\"length of  all_queries\", len(all_queries))\n",
    "sum_ = sum(len(i.split(\" \")) for i in all_queries)\n",
    "print(\"average length of all_queries\", int(sum_/len(all_queries)))\n"
   ]
  },
  {
   "cell_type": "markdown",
   "id": "919b4b81-b51d-4d52-980d-2b0e2713b050",
   "metadata": {},
   "source": [
    "# Data instruction MedMCQA"
   ]
  },
  {
   "cell_type": "code",
   "execution_count": 11,
   "id": "2025f11a-6621-4aec-a921-0cb52b94817f",
   "metadata": {},
   "outputs": [
    {
     "name": "stdout",
     "output_type": "stream",
     "text": [
      "分组结果已保存到文件：query_groups.json 和 query_groups.csv\n"
     ]
    }
   ],
   "source": [
    "\n",
    "from datasets import load_dataset\n",
    "from sklearn.metrics.pairwise import cosine_similarity\n",
    "from sentence_transformers import SentenceTransformer\n",
    "import re\n",
    "import json\n",
    "import pandas as pd\n",
    "\n",
    "def desensitize_query(query):\n",
    "    query = re.sub(r'\\b(Black|Asian|White|Hispanic|intersex|male|female|woman|man)\\b', 'individual', query, flags=re.IGNORECASE)\n",
    "    query = re.sub(r'\\b(\\d+ year old)\\b', 'adult', query, flags=re.IGNORECASE)\n",
    "    return query.strip()\n",
    "\n",
    "sub_list = [\"cc_llm\", \"cc_manual\", \"ehai\", \"fbrt_llm\", \"trinds\", \"omiye_et_al\", \"fbrt_llm_661_sampled\",\n",
    "            \"fbrt_manual\", \"multimedqa\", \"mixed_mmqa_omaq\", \"omaq\"]\n",
    "\n",
    "all_queries = []\n",
    "\n",
    "for sub in sub_list:\n",
    "    ds = load_dataset(\"katielink/EquityMedQA\", sub)\n",
    "    for row in ds[\"train\"]:\n",
    "        if isinstance(row, str):\n",
    "            all_queries.append(desensitize_query(row))\n",
    "        elif isinstance(row, dict):\n",
    "            for key, value in row.items():\n",
    "                if isinstance(value, str):\n",
    "                    all_queries.append(desensitize_query(value))\n",
    "print(\"length of  all_queries\", len(all_queries))\n",
    "sum_ = sum(len(i.split(\" \")) for i in range(all_queries))\n",
    "print(\"average length of all_queries\", int(sum_/all_queries))\n",
    "\n",
    "\n",
    "model = SentenceTransformer('all-MiniLM-L6-v2')\n",
    "embeddings = model.encode(all_queries)\n",
    "\n",
    "similarity_matrix = cosine_similarity(embeddings)\n",
    "\n",
    "threshold = 0.7  \n",
    "groups = []\n",
    "visited = set()\n",
    "\n",
    "for i, query in enumerate(all_queries):\n",
    "    if i in visited:\n",
    "        continue\n",
    "    group = {query} \n",
    "    visited.add(i)\n",
    "    for j in range(len(all_queries)):\n",
    "        if j not in visited and similarity_matrix[i, j] > threshold:\n",
    "            group.add(all_queries[j])\n",
    "            visited.add(j)\n",
    "    groups.append(list(group))  \n",
    "\n",
    "\n",
    "output_file = \"query_groups.json\"\n",
    "with open(output_file, \"w\", encoding=\"utf-8\") as f:\n",
    "    json.dump(groups, f, indent=4, ensure_ascii=False)\n",
    "\n",
    "csv_output = []\n",
    "for idx, group in enumerate(groups, 1):\n",
    "    for query in group:\n",
    "        csv_output.append({\"Group ID\": idx, \"Query\": query})\n",
    "\n",
    "df = pd.DataFrame(csv_output)\n",
    "df.to_csv(\"query_groups.csv\", index=False, encoding=\"utf-8\")\n",
    "\n"
   ]
  }
 ],
 "metadata": {
  "kernelspec": {
   "display_name": "Python 3 (ipykernel)",
   "language": "python",
   "name": "python3"
  },
  "language_info": {
   "codemirror_mode": {
    "name": "ipython",
    "version": 3
   },
   "file_extension": ".py",
   "mimetype": "text/x-python",
   "name": "python",
   "nbconvert_exporter": "python",
   "pygments_lexer": "ipython3",
   "version": "3.8.8"
  }
 },
 "nbformat": 4,
 "nbformat_minor": 5
}
